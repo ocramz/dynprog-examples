{
 "metadata": {
  "name": "",
  "signature": "sha256:0504dbc869bd1717281d5c3fd65bcb16c47aedf7a27b0afd5441496ac50ce50e"
 },
 "nbformat": 3,
 "nbformat_minor": 0,
 "worksheets": [
  {
   "cells": [
    {
     "cell_type": "code",
     "collapsed": false,
     "input": [
      "import sklearn\n",
      "import numpy as np\n",
      "from numpy import linalg as LA\n",
      "from scipy.integrate import odeint\n",
      "import matplotlib.pyplot as plt\n",
      "%matplotlib inline\n",
      "### *Controlled linearized noisy cart-pole balancing problem*\n",
      "### from \"Reinforcement Learning for Humanoid Robotics\"\n",
      "### Jan Peters, Sethu Vijayakumar, Stefan Schaal, ICHR 2003\n",
      "### refs: [peters03, mehta02]\n",
      "### NOTES : LQR problem with noisy state evolution and noisy control\n",
      "\n",
      "Nx = 4 # dimensionality of state space [x, xdot, a, adot]\n",
      "Nt = 200\n",
      "T = 4\n",
      "# system parameters (in SI units)\n",
      "F = 1\n",
      "tau = 0.017 # [s]\n",
      "g = 9.81 # [m/s^2]\n",
      "nu = 13.2 # [1/s^2]\n",
      "mu0 = 0\n",
      "sig0 = 0.1\n",
      "Sigmat = 0.01*sig0*np.eye(Nx)\n",
      "t  = np.linspace(0, T, Nt)   # time grid\n",
      "# reward parameters\n",
      "Q = np.diag([1.25, 1, 12, 0.25])\n",
      "R = 0.01\n",
      "A = np.array([[1, tau, 0, 0],[0, 1, 0, 0],[0, 0, 1, tau],[0, 0, nu*tau, 1]])\n",
      "B = np.diag([0, tau, 0, nu*tau/g])\n",
      "#### CONTROL VARIABLES (later: to be learned, for now we use analytical optimal ones)\n",
      "global K, eta, gamma\n",
      "gamma = 0.2\n",
      "K = np.array([5.7, 11.3, -82.1, -21.6])   # analytical opt.\n",
      "eta = 1000 # \""
     ],
     "language": "python",
     "metadata": {},
     "outputs": [],
     "prompt_number": 53
    },
    {
     "cell_type": "code",
     "collapsed": false,
     "input": [
      "#initial conditions [x0, x0dot, a0, a0dot] \n",
      "def ic(mu0, sig0, Nx):\n",
      "    return sig0 * np.random.randn(Nx) + mu0\n",
      "\n",
      "def reward(x,u,Q,R):\n",
      "    return x*Q*x + u*R*u\n",
      "\n",
      "def policy_map(eta):\n",
      "    return 1/(1 + np.exp(eta)) + 0.1\n",
      "def policy(K,x):\n",
      "    m = K*x # control linear in the state\n",
      "    s = policy_map(eta)\n",
      "    u = m + s**2 * np.random.randn(Nx) # noisy control \n",
      "    # u = m # deterministic control\n",
      "    return u\n",
      "def check_stability():\n",
      "    eigval, eigvec = LA.eig(A + B*K)\n",
      "    if max(eigval) > 1/(gamma**2):\n",
      "        print str(max(eigval)) + \": unstable!\"\n",
      "def f(x,t): \n",
      "    \"\"\"system dynamics\"\"\"\n",
      "    u = policy(K,x)\n",
      "    mu = A.dot(x) + B.dot(u)\n",
      "    #return Sigmat * np.random.randn(Nx) + mu\n",
      "    return np.random.multivariate_normal(mu, Sigmat)"
     ],
     "language": "python",
     "metadata": {},
     "outputs": [],
     "prompt_number": 54
    },
    {
     "cell_type": "code",
     "collapsed": false,
     "input": [
      "x0 = ic(mu0, sig0, Nx)  # IC\n",
      "\n",
      "#print policy(K,x0)\n",
      "#print policy_map(eta)\n",
      "\n",
      "check_stability()\n",
      "# solve the DEs\n",
      "soln = odeint(f, x0, t)\n",
      "\n",
      "xpos = soln[:, 0]\n",
      "xvel = soln[:, 1]\n",
      "angle= soln[:, 2]\n",
      "anglevel= soln[:, 3]\n",
      "plt.figure()\n",
      "ax = plt.subplot(111)\n",
      "plt.plot(t,xpos,t,xvel,t,angle,t,anglevel)\n",
      "ax.set_ylim([-1,1])\n",
      "#ax = plt.plot(t,xpos)\n",
      "#ax.set_ylim([-1,1])"
     ],
     "language": "python",
     "metadata": {},
     "outputs": [
      {
       "output_type": "stream",
       "stream": "stdout",
       "text": [
        "Excess work done on this call (perhaps wrong Dfun type).\n",
        "Run with full_output = 1 to get quantitative information.\n"
       ]
      },
      {
       "metadata": {},
       "output_type": "pyout",
       "prompt_number": 60,
       "text": [
        "(-1, 1)"
       ]
      },
      {
       "metadata": {},
       "output_type": "display_data",
       "png": "[encoded data removed]",
       "text": [
        "<matplotlib.figure.Figure at 0x10b3b22d0>"
       ]
      }
     ],
     "prompt_number": 60
    },
    {
     "cell_type": "code",
     "collapsed": false,
     "input": [],
     "language": "python",
     "metadata": {},
     "outputs": [],
     "prompt_number": 55
    },
    {
     "cell_type": "code",
     "collapsed": false,
     "input": [],
     "language": "python",
     "metadata": {},
     "outputs": []
    }
   ],
   "metadata": {}
  }
 ]
}