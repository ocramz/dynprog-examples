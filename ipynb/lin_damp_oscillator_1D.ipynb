{
 "metadata": {
  "name": "",
  "signature": "sha256:09861b0cc7c66dc2fa2a2d49a69e6aec2bb8387b2c9098a2dba78d78b586802e"
 },
 "nbformat": 3,
 "nbformat_minor": 0,
 "worksheets": [
  {
   "cells": [
    {
     "cell_type": "markdown",
     "metadata": {},
     "source": [
      "*linear 1D oscillator w damping*"
     ]
    },
    {
     "cell_type": "code",
     "collapsed": false,
     "input": [
      "import sklearn\n",
      "import numpy as np\n",
      "from numpy import linalg as LA\n",
      "from scipy.integrate import odeint\n",
      "import matplotlib.pyplot as plt\n",
      "%matplotlib inline"
     ],
     "language": "python",
     "metadata": {},
     "outputs": [],
     "prompt_number": 1
    },
    {
     "cell_type": "code",
     "collapsed": false,
     "input": [
      "Nt = 100\n",
      "K = 80   ## omega0 = sqrt(k/m)\n",
      "C = 0.25\n",
      "A = np.array([[0,1],[-K,-C]]) # system mtx\n",
      "# state: u = [x, xdot]\n",
      "x0 = 1\n",
      "xdot0 = 0\n",
      "u0 = np.array([x0,xdot0]) # initial condition"
     ],
     "language": "python",
     "metadata": {},
     "outputs": [],
     "prompt_number": 44
    },
    {
     "cell_type": "code",
     "collapsed": false,
     "input": [
      "T = 4\n",
      "t_ = np.linspace(0,T,Nt) # time grid"
     ],
     "language": "python",
     "metadata": {},
     "outputs": [],
     "prompt_number": 22
    },
    {
     "cell_type": "code",
     "collapsed": false,
     "input": [
      "def f(u,t):\n",
      "    return A.dot(u)"
     ],
     "language": "python",
     "metadata": {},
     "outputs": [],
     "prompt_number": 45
    },
    {
     "cell_type": "code",
     "collapsed": false,
     "input": [
      "soln = odeint(f, u0, t_)\n",
      "xpos = soln[:, 0]\n",
      "xvel = soln[:, 1]\n",
      "\n",
      "plt.figure()\n",
      "ax = plt.subplot(111)\n",
      "#plt.plot(t_,xpos,t_,xvel)\n",
      "plt.plot(t_,xpos)"
     ],
     "language": "python",
     "metadata": {},
     "outputs": [
      {
       "metadata": {},
       "output_type": "pyout",
       "prompt_number": 46,
       "text": [
        "[<matplotlib.lines.Line2D at 0x1138b7790>]"
       ]
      },
      {
       "metadata": {},
       "output_type": "display_data",
       "png": "[encoded data removed]",
       "text": [
        "<matplotlib.figure.Figure at 0x113162ed0>"
       ]
      }
     ],
     "prompt_number": 46
    },
    {
     "cell_type": "code",
     "collapsed": false,
     "input": [],
     "language": "python",
     "metadata": {},
     "outputs": []
    }
   ],
   "metadata": {}
  }
 ]
}